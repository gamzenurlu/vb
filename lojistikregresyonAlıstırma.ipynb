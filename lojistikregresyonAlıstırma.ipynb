{
 "cells": [
  {
   "cell_type": "code",
   "execution_count": 1,
   "id": "a6553333-9440-447e-b833-6cceab375d15",
   "metadata": {},
   "outputs": [],
   "source": [
    "#kişinin yas,kan basıncı,kolesterol seviyesıne gore kalp rahatsızlıgı var mı yok mu bunu kontrolunu yapan lojistik regresyon\n",
    "#problemını cozunuz\n",
    "import numpy as np\n",
    "X=np.array([\n",
    "    [45,130,200],\n",
    "    [50,140,220],\n",
    "    [55,135,180],\n",
    "    [40,120,195],\n",
    "    [65,150,210],\n",
    "    [35,110,190],\n",
    "    [60,145,205],\n",
    "    [70,160,230],\n",
    "    [50,125,200],\n",
    "    [55,150,215]\n",
    "    \n",
    "])\n",
    "y=np.array([1,1,1,0,1,0,1,1,0,1])"
   ]
  },
  {
   "cell_type": "code",
   "execution_count": null,
   "id": "5c49d0d2-c9a4-4f53-ba6e-39b3ad8d9075",
   "metadata": {},
   "outputs": [],
   "source": [
    "#test verisi %20 olsun\n",
    "#lojistik regression uygula\n",
    "#test verileri ile tahmin yap\n",
    "#model performansını degerlendir\n",
    "#yası 50 kan basıncı 135 kolesterol sevıyesı 200 olan hastanın durumunu ekran cıktısı oalarak ver\n",
    "#hasta:1 saglıklı:0\n"
   ]
  },
  {
   "cell_type": "code",
   "execution_count": 2,
   "id": "deecd27c-a50f-44a1-9420-9176499626cf",
   "metadata": {},
   "outputs": [],
   "source": [
    "from sklearn.model_selection import train_test_split\n",
    "from sklearn.linear_model import LogisticRegression\n",
    "from sklearn.metrics import accuracy_score,confusion_matrix"
   ]
  },
  {
   "cell_type": "code",
   "execution_count": 3,
   "id": "14572496-ee91-466f-b930-c2d9a481db07",
   "metadata": {},
   "outputs": [],
   "source": [
    "X_train,X_test,y_train,y_test=train_test_split(X,y,test_size=0.2,random_state=42)\n",
    "model=LogisticRegression()\n",
    "model.fit(X_train,y_train)\n",
    "y_pred=model.predict(X_test)\n"
   ]
  },
  {
   "cell_type": "code",
   "execution_count": 4,
   "id": "ce778472-7c80-4abf-a425-b1219f60ccfb",
   "metadata": {},
   "outputs": [
    {
     "data": {
      "text/plain": [
       "array([1, 1])"
      ]
     },
     "execution_count": 4,
     "metadata": {},
     "output_type": "execute_result"
    }
   ],
   "source": [
    "y_pred"
   ]
  },
  {
   "cell_type": "code",
   "execution_count": 5,
   "id": "310c5d93-4f75-440d-ac8b-ab5be0796199",
   "metadata": {},
   "outputs": [
    {
     "data": {
      "text/plain": [
       "array([[0, 1],\n",
       "       [0, 1]], dtype=int64)"
      ]
     },
     "execution_count": 5,
     "metadata": {},
     "output_type": "execute_result"
    }
   ],
   "source": [
    "cm=confusion_matrix(y_test,y_pred)\n",
    "cm"
   ]
  },
  {
   "cell_type": "code",
   "execution_count": 6,
   "id": "f58567b2-cc06-413a-91d1-28931f5785d9",
   "metadata": {},
   "outputs": [
    {
     "name": "stdout",
     "output_type": "stream",
     "text": [
      "modelin dogrulugu: 0.5\n"
     ]
    }
   ],
   "source": [
    "print(f'modelin dogrulugu: {accuracy_score(y_test,y_pred)}')"
   ]
  },
  {
   "cell_type": "code",
   "execution_count": 8,
   "id": "b08039f7-10e3-44f4-b275-540dd6981899",
   "metadata": {},
   "outputs": [
    {
     "name": "stdout",
     "output_type": "stream",
     "text": [
      "yas:50, kan basıncı:135, kolesterol seviyesi:200 olan kişinin hasta olma olasılığı: 1\n"
     ]
    }
   ],
   "source": [
    "yeni_tahmin=np.array([[50,135,200]])\n",
    "predicted=model.predict(yeni_tahmin)\n",
    "print(f'yas:50, kan basıncı:135, kolesterol seviyesi:200 olan kişinin hasta olma olasılığı: {predicted[0]}')"
   ]
  },
  {
   "cell_type": "code",
   "execution_count": null,
   "id": "55b57105-36ec-4aca-8bf9-e58cefc94f02",
   "metadata": {},
   "outputs": [],
   "source": []
  }
 ],
 "metadata": {
  "kernelspec": {
   "display_name": "Python 3 (ipykernel)",
   "language": "python",
   "name": "python3"
  },
  "language_info": {
   "codemirror_mode": {
    "name": "ipython",
    "version": 3
   },
   "file_extension": ".py",
   "mimetype": "text/x-python",
   "name": "python",
   "nbconvert_exporter": "python",
   "pygments_lexer": "ipython3",
   "version": "3.12.2"
  }
 },
 "nbformat": 4,
 "nbformat_minor": 5
}
