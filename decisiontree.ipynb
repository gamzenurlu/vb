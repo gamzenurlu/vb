{
 "cells": [
  {
   "cell_type": "code",
   "execution_count": 1,
   "id": "c67ab285-05fe-4c30-bf9c-bf57599138c9",
   "metadata": {},
   "outputs": [],
   "source": [
    "import pandas as pd\n",
    "from sklearn.tree import DecisionTreeClassifier"
   ]
  },
  {
   "cell_type": "code",
   "execution_count": 7,
   "id": "60870717-5260-40ba-868e-9d28ec8629f3",
   "metadata": {},
   "outputs": [
    {
     "data": {
      "text/html": [
       "<div>\n",
       "<style scoped>\n",
       "    .dataframe tbody tr th:only-of-type {\n",
       "        vertical-align: middle;\n",
       "    }\n",
       "\n",
       "    .dataframe tbody tr th {\n",
       "        vertical-align: top;\n",
       "    }\n",
       "\n",
       "    .dataframe thead th {\n",
       "        text-align: right;\n",
       "    }\n",
       "</style>\n",
       "<table border=\"1\" class=\"dataframe\">\n",
       "  <thead>\n",
       "    <tr style=\"text-align: right;\">\n",
       "      <th></th>\n",
       "      <th>Hava Durumu</th>\n",
       "      <th>Sıcaklık</th>\n",
       "      <th>Ruzgar</th>\n",
       "      <th>Olumlu</th>\n",
       "    </tr>\n",
       "  </thead>\n",
       "  <tbody>\n",
       "    <tr>\n",
       "      <th>0</th>\n",
       "      <td>Gunesli</td>\n",
       "      <td>Sıcak</td>\n",
       "      <td>Ruzgarsız</td>\n",
       "      <td>E</td>\n",
       "    </tr>\n",
       "    <tr>\n",
       "      <th>1</th>\n",
       "      <td>Gunesli</td>\n",
       "      <td>Sıcak</td>\n",
       "      <td>Ruzgarlı</td>\n",
       "      <td>E</td>\n",
       "    </tr>\n",
       "    <tr>\n",
       "      <th>2</th>\n",
       "      <td>Bulutlu</td>\n",
       "      <td>Sıcak</td>\n",
       "      <td>Ruzgarsız</td>\n",
       "      <td>E</td>\n",
       "    </tr>\n",
       "    <tr>\n",
       "      <th>3</th>\n",
       "      <td>Yagmurlu</td>\n",
       "      <td>Ilık</td>\n",
       "      <td>Ruzgarsız</td>\n",
       "      <td>E</td>\n",
       "    </tr>\n",
       "    <tr>\n",
       "      <th>4</th>\n",
       "      <td>Yagmurlu</td>\n",
       "      <td>Soguk</td>\n",
       "      <td>Ruzgarsız</td>\n",
       "      <td>H</td>\n",
       "    </tr>\n",
       "    <tr>\n",
       "      <th>5</th>\n",
       "      <td>Bulutlu</td>\n",
       "      <td>Soguk</td>\n",
       "      <td>Ruzgarsız</td>\n",
       "      <td>E</td>\n",
       "    </tr>\n",
       "    <tr>\n",
       "      <th>6</th>\n",
       "      <td>Gunesli</td>\n",
       "      <td>Soguk</td>\n",
       "      <td>Ruzgarlı</td>\n",
       "      <td>E</td>\n",
       "    </tr>\n",
       "    <tr>\n",
       "      <th>7</th>\n",
       "      <td>Gunesli</td>\n",
       "      <td>Ilık</td>\n",
       "      <td>Ruzgarlı</td>\n",
       "      <td>H</td>\n",
       "    </tr>\n",
       "    <tr>\n",
       "      <th>8</th>\n",
       "      <td>Bulutlu</td>\n",
       "      <td>Ilık</td>\n",
       "      <td>Ruzgarsız</td>\n",
       "      <td>E</td>\n",
       "    </tr>\n",
       "    <tr>\n",
       "      <th>9</th>\n",
       "      <td>Yagmurlu</td>\n",
       "      <td>Ilık</td>\n",
       "      <td>Ruzgarlı</td>\n",
       "      <td>H</td>\n",
       "    </tr>\n",
       "  </tbody>\n",
       "</table>\n",
       "</div>"
      ],
      "text/plain": [
       "  Hava Durumu Sıcaklık     Ruzgar Olumlu\n",
       "0     Gunesli    Sıcak  Ruzgarsız      E\n",
       "1     Gunesli    Sıcak   Ruzgarlı      E\n",
       "2     Bulutlu    Sıcak  Ruzgarsız      E\n",
       "3    Yagmurlu     Ilık  Ruzgarsız      E\n",
       "4    Yagmurlu    Soguk  Ruzgarsız      H\n",
       "5     Bulutlu    Soguk  Ruzgarsız      E\n",
       "6     Gunesli    Soguk   Ruzgarlı      E\n",
       "7     Gunesli     Ilık   Ruzgarlı      H\n",
       "8     Bulutlu     Ilık  Ruzgarsız      E\n",
       "9    Yagmurlu     Ilık   Ruzgarlı      H"
      ]
     },
     "execution_count": 7,
     "metadata": {},
     "output_type": "execute_result"
    }
   ],
   "source": [
    "data={\n",
    "    'Hava Durumu':['Gunesli','Gunesli','Bulutlu','Yagmurlu','Yagmurlu','Bulutlu','Gunesli','Gunesli','Bulutlu','Yagmurlu',],\n",
    "    'Sıcaklık':['Sıcak','Sıcak','Sıcak','Ilık','Soguk','Soguk','Soguk','Ilık','Ilık','Ilık'],\n",
    "    'Ruzgar':['Ruzgarsız','Ruzgarlı','Ruzgarsız','Ruzgarsız','Ruzgarsız','Ruzgarsız','Ruzgarlı','Ruzgarlı','Ruzgarsız','Ruzgarlı'],\n",
    "    'Olumlu':['E','E','E','E','H','E','E','H','E','H']\n",
    "}\n",
    "df=pd.DataFrame(data)\n",
    "df"
   ]
  },
  {
   "cell_type": "code",
   "execution_count": 8,
   "id": "040bd47c-4b67-4498-9025-6783b63688c3",
   "metadata": {},
   "outputs": [],
   "source": [
    "#hava durumunda : gunesli:0, bulutlu:1,yagmurlu:2\n",
    "#sıcaklık: sıcak:0,soguk:1,ılık:2\n",
    "#ruzgarlı: ruzgarsız:0,ruzgarlı:1\n",
    "#olumlu: olumlu,E:1, olumsuz,H:0\n"
   ]
  },
  {
   "cell_type": "code",
   "execution_count": 9,
   "id": "e9ffea66-744a-4de3-92ec-da54fa4ecebc",
   "metadata": {},
   "outputs": [
    {
     "data": {
      "text/html": [
       "<div>\n",
       "<style scoped>\n",
       "    .dataframe tbody tr th:only-of-type {\n",
       "        vertical-align: middle;\n",
       "    }\n",
       "\n",
       "    .dataframe tbody tr th {\n",
       "        vertical-align: top;\n",
       "    }\n",
       "\n",
       "    .dataframe thead th {\n",
       "        text-align: right;\n",
       "    }\n",
       "</style>\n",
       "<table border=\"1\" class=\"dataframe\">\n",
       "  <thead>\n",
       "    <tr style=\"text-align: right;\">\n",
       "      <th></th>\n",
       "      <th>Hava Durumu</th>\n",
       "      <th>Sıcaklık</th>\n",
       "      <th>Ruzgar</th>\n",
       "      <th>Olumlu</th>\n",
       "    </tr>\n",
       "  </thead>\n",
       "  <tbody>\n",
       "    <tr>\n",
       "      <th>0</th>\n",
       "      <td>0</td>\n",
       "      <td>0</td>\n",
       "      <td>0</td>\n",
       "      <td>1</td>\n",
       "    </tr>\n",
       "    <tr>\n",
       "      <th>1</th>\n",
       "      <td>0</td>\n",
       "      <td>0</td>\n",
       "      <td>1</td>\n",
       "      <td>1</td>\n",
       "    </tr>\n",
       "    <tr>\n",
       "      <th>2</th>\n",
       "      <td>1</td>\n",
       "      <td>0</td>\n",
       "      <td>0</td>\n",
       "      <td>1</td>\n",
       "    </tr>\n",
       "    <tr>\n",
       "      <th>3</th>\n",
       "      <td>2</td>\n",
       "      <td>1</td>\n",
       "      <td>0</td>\n",
       "      <td>1</td>\n",
       "    </tr>\n",
       "    <tr>\n",
       "      <th>4</th>\n",
       "      <td>2</td>\n",
       "      <td>2</td>\n",
       "      <td>0</td>\n",
       "      <td>0</td>\n",
       "    </tr>\n",
       "    <tr>\n",
       "      <th>5</th>\n",
       "      <td>1</td>\n",
       "      <td>2</td>\n",
       "      <td>0</td>\n",
       "      <td>1</td>\n",
       "    </tr>\n",
       "    <tr>\n",
       "      <th>6</th>\n",
       "      <td>0</td>\n",
       "      <td>2</td>\n",
       "      <td>1</td>\n",
       "      <td>1</td>\n",
       "    </tr>\n",
       "    <tr>\n",
       "      <th>7</th>\n",
       "      <td>0</td>\n",
       "      <td>1</td>\n",
       "      <td>1</td>\n",
       "      <td>0</td>\n",
       "    </tr>\n",
       "    <tr>\n",
       "      <th>8</th>\n",
       "      <td>1</td>\n",
       "      <td>1</td>\n",
       "      <td>0</td>\n",
       "      <td>1</td>\n",
       "    </tr>\n",
       "    <tr>\n",
       "      <th>9</th>\n",
       "      <td>2</td>\n",
       "      <td>1</td>\n",
       "      <td>1</td>\n",
       "      <td>0</td>\n",
       "    </tr>\n",
       "  </tbody>\n",
       "</table>\n",
       "</div>"
      ],
      "text/plain": [
       "   Hava Durumu  Sıcaklık  Ruzgar  Olumlu\n",
       "0            0         0       0       1\n",
       "1            0         0       1       1\n",
       "2            1         0       0       1\n",
       "3            2         1       0       1\n",
       "4            2         2       0       0\n",
       "5            1         2       0       1\n",
       "6            0         2       1       1\n",
       "7            0         1       1       0\n",
       "8            1         1       0       1\n",
       "9            2         1       1       0"
      ]
     },
     "execution_count": 9,
     "metadata": {},
     "output_type": "execute_result"
    }
   ],
   "source": [
    "df['Hava Durumu']=df['Hava Durumu'].map({'Gunesli':0, 'Bulutlu':1, 'Yagmurlu':2})\n",
    "df['Sıcaklık']=df['Sıcaklık'].map({'Sıcak':0, 'Ilık':1, 'Soguk':2})\n",
    "df['Ruzgar']=df['Ruzgar'].map({'Ruzgarsız':0, 'Ruzgarlı':1})\n",
    "df['Olumlu']=df['Olumlu'].map({'H':0, 'E':1})\n",
    "df\n",
    "\n"
   ]
  },
  {
   "cell_type": "code",
   "execution_count": 11,
   "id": "222255fb-6a80-4b94-b6b0-0467a5a08cc4",
   "metadata": {},
   "outputs": [
    {
     "data": {
      "text/plain": [
       "0    1\n",
       "1    1\n",
       "2    1\n",
       "3    1\n",
       "4    0\n",
       "5    1\n",
       "6    1\n",
       "7    0\n",
       "8    1\n",
       "9    0\n",
       "Name: Olumlu, dtype: int64"
      ]
     },
     "execution_count": 11,
     "metadata": {},
     "output_type": "execute_result"
    }
   ],
   "source": [
    "X=df.drop('Olumlu',axis=1)\n",
    "y=df['Olumlu']\n",
    "y"
   ]
  },
  {
   "cell_type": "code",
   "execution_count": 12,
   "id": "d6e4da23-cff9-41f1-9b4c-4a2d469947d5",
   "metadata": {},
   "outputs": [
    {
     "data": {
      "text/html": [
       "<style>#sk-container-id-1 {color: black;}#sk-container-id-1 pre{padding: 0;}#sk-container-id-1 div.sk-toggleable {background-color: white;}#sk-container-id-1 label.sk-toggleable__label {cursor: pointer;display: block;width: 100%;margin-bottom: 0;padding: 0.3em;box-sizing: border-box;text-align: center;}#sk-container-id-1 label.sk-toggleable__label-arrow:before {content: \"▸\";float: left;margin-right: 0.25em;color: #696969;}#sk-container-id-1 label.sk-toggleable__label-arrow:hover:before {color: black;}#sk-container-id-1 div.sk-estimator:hover label.sk-toggleable__label-arrow:before {color: black;}#sk-container-id-1 div.sk-toggleable__content {max-height: 0;max-width: 0;overflow: hidden;text-align: left;background-color: #f0f8ff;}#sk-container-id-1 div.sk-toggleable__content pre {margin: 0.2em;color: black;border-radius: 0.25em;background-color: #f0f8ff;}#sk-container-id-1 input.sk-toggleable__control:checked~div.sk-toggleable__content {max-height: 200px;max-width: 100%;overflow: auto;}#sk-container-id-1 input.sk-toggleable__control:checked~label.sk-toggleable__label-arrow:before {content: \"▾\";}#sk-container-id-1 div.sk-estimator input.sk-toggleable__control:checked~label.sk-toggleable__label {background-color: #d4ebff;}#sk-container-id-1 div.sk-label input.sk-toggleable__control:checked~label.sk-toggleable__label {background-color: #d4ebff;}#sk-container-id-1 input.sk-hidden--visually {border: 0;clip: rect(1px 1px 1px 1px);clip: rect(1px, 1px, 1px, 1px);height: 1px;margin: -1px;overflow: hidden;padding: 0;position: absolute;width: 1px;}#sk-container-id-1 div.sk-estimator {font-family: monospace;background-color: #f0f8ff;border: 1px dotted black;border-radius: 0.25em;box-sizing: border-box;margin-bottom: 0.5em;}#sk-container-id-1 div.sk-estimator:hover {background-color: #d4ebff;}#sk-container-id-1 div.sk-parallel-item::after {content: \"\";width: 100%;border-bottom: 1px solid gray;flex-grow: 1;}#sk-container-id-1 div.sk-label:hover label.sk-toggleable__label {background-color: #d4ebff;}#sk-container-id-1 div.sk-serial::before {content: \"\";position: absolute;border-left: 1px solid gray;box-sizing: border-box;top: 0;bottom: 0;left: 50%;z-index: 0;}#sk-container-id-1 div.sk-serial {display: flex;flex-direction: column;align-items: center;background-color: white;padding-right: 0.2em;padding-left: 0.2em;position: relative;}#sk-container-id-1 div.sk-item {position: relative;z-index: 1;}#sk-container-id-1 div.sk-parallel {display: flex;align-items: stretch;justify-content: center;background-color: white;position: relative;}#sk-container-id-1 div.sk-item::before, #sk-container-id-1 div.sk-parallel-item::before {content: \"\";position: absolute;border-left: 1px solid gray;box-sizing: border-box;top: 0;bottom: 0;left: 50%;z-index: -1;}#sk-container-id-1 div.sk-parallel-item {display: flex;flex-direction: column;z-index: 1;position: relative;background-color: white;}#sk-container-id-1 div.sk-parallel-item:first-child::after {align-self: flex-end;width: 50%;}#sk-container-id-1 div.sk-parallel-item:last-child::after {align-self: flex-start;width: 50%;}#sk-container-id-1 div.sk-parallel-item:only-child::after {width: 0;}#sk-container-id-1 div.sk-dashed-wrapped {border: 1px dashed gray;margin: 0 0.4em 0.5em 0.4em;box-sizing: border-box;padding-bottom: 0.4em;background-color: white;}#sk-container-id-1 div.sk-label label {font-family: monospace;font-weight: bold;display: inline-block;line-height: 1.2em;}#sk-container-id-1 div.sk-label-container {text-align: center;}#sk-container-id-1 div.sk-container {/* jupyter's `normalize.less` sets `[hidden] { display: none; }` but bootstrap.min.css set `[hidden] { display: none !important; }` so we also need the `!important` here to be able to override the default hidden behavior on the sphinx rendered scikit-learn.org. See: https://github.com/scikit-learn/scikit-learn/issues/21755 */display: inline-block !important;position: relative;}#sk-container-id-1 div.sk-text-repr-fallback {display: none;}</style><div id=\"sk-container-id-1\" class=\"sk-top-container\"><div class=\"sk-text-repr-fallback\"><pre>DecisionTreeClassifier()</pre><b>In a Jupyter environment, please rerun this cell to show the HTML representation or trust the notebook. <br />On GitHub, the HTML representation is unable to render, please try loading this page with nbviewer.org.</b></div><div class=\"sk-container\" hidden><div class=\"sk-item\"><div class=\"sk-estimator sk-toggleable\"><input class=\"sk-toggleable__control sk-hidden--visually\" id=\"sk-estimator-id-1\" type=\"checkbox\" checked><label for=\"sk-estimator-id-1\" class=\"sk-toggleable__label sk-toggleable__label-arrow\">DecisionTreeClassifier</label><div class=\"sk-toggleable__content\"><pre>DecisionTreeClassifier()</pre></div></div></div></div></div>"
      ],
      "text/plain": [
       "DecisionTreeClassifier()"
      ]
     },
     "execution_count": 12,
     "metadata": {},
     "output_type": "execute_result"
    }
   ],
   "source": [
    "model=DecisionTreeClassifier()\n",
    "model.fit(X,y)\n"
   ]
  },
  {
   "cell_type": "code",
   "execution_count": null,
   "id": "db0661c0-667a-49be-808a-c3e74f6b749f",
   "metadata": {},
   "outputs": [
    {
     "name": "stdin",
     "output_type": "stream",
     "text": [
      "hava durumunu giirniz: Gunesli\n",
      "Sıcaklık: Ilık\n"
     ]
    }
   ],
   "source": [
    "hava_durumu=input('hava durumunu giirniz:')\n",
    "sicaklik=input('Sıcaklık:')\n",
    "ruzgar=input('ruzgar:')\n",
    "\n",
    "new_data=pd.DataFrame({\n",
    "    'Hava Durumu':[hava_durumu],\n",
    "    'Sıcaklık':[sicaklik],\n",
    "    'Ruzgar':[ruzgar]\n",
    "})\n",
    "new_data['Hava Durumu']=new_data['Hava Durumu'].map({'Gunesli':0, 'Bulutlu':1, 'Yagmurlu':2})\n",
    "new_data['Sıcaklık']=new_data['Sıcaklık'].map({'Sıcak':0, 'Ilık':1, 'Soguk':2})\n",
    "new_data['Ruzgar']=new_data['Ruzgar'].map({'Ruzgarsız':0, 'Ruzgarlı':1})\n",
    "\n",
    "#predict\n",
    "tahmin=model.predict(new_data)\n",
    "if tahmin[0]==1:\n",
    "    print(\"cafe,restorana gidebilirsiniz\")\n",
    "else:\n",
    "    print(\"hava durumu kotu\")\n",
    "\n"
   ]
  },
  {
   "cell_type": "code",
   "execution_count": null,
   "id": "7204e45e-0953-4390-a7cf-8a2c5cf27262",
   "metadata": {},
   "outputs": [],
   "source": []
  }
 ],
 "metadata": {
  "kernelspec": {
   "display_name": "Python 3 (ipykernel)",
   "language": "python",
   "name": "python3"
  },
  "language_info": {
   "codemirror_mode": {
    "name": "ipython",
    "version": 3
   },
   "file_extension": ".py",
   "mimetype": "text/x-python",
   "name": "python",
   "nbconvert_exporter": "python",
   "pygments_lexer": "ipython3",
   "version": "3.12.2"
  }
 },
 "nbformat": 4,
 "nbformat_minor": 5
}
